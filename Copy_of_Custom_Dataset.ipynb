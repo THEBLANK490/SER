{
  "cells": [
    {
      "cell_type": "markdown",
      "metadata": {
        "id": "7uVgaBAonAYF"
      },
      "source": [
        "# **Initial Run**"
      ]
    },
    {
      "cell_type": "code",
      "execution_count": null,
      "metadata": {
        "id": "xk8nwtYxm5Qq"
      },
      "outputs": [],
      "source": [
        "import pandas as pd\n",
        "import numpy as np\n",
        "import os\n",
        "import sys\n",
        "import seaborn as sn\n",
        "import matplotlib.pyplot as plt\n",
        "import librosa\n",
        "import librosa.display\n",
        "from IPython.display import Audio\n",
        "import warnings\n",
        "warnings.filterwarnings('ignore')"
      ]
    },
    {
      "cell_type": "code",
      "execution_count": null,
      "metadata": {
        "colab": {
          "base_uri": "https://localhost:8080/"
        },
        "id": "CsjPwJ6ynIGe",
        "outputId": "d937532d-649b-4d8e-e07d-ef638714f4dc"
      },
      "outputs": [
        {
          "output_type": "stream",
          "name": "stdout",
          "text": [
            "Mounted at /content/drive\n"
          ]
        }
      ],
      "source": [
        "# mounting drive\n",
        "from google.colab import drive\n",
        "drive.mount('/content/drive')"
      ]
    },
    {
      "cell_type": "markdown",
      "metadata": {
        "id": "iQPN6ToiniVC"
      },
      "source": [
        "# **Data Exploration (Run)**"
      ]
    },
    {
      "cell_type": "markdown",
      "metadata": {
        "id": "yRcDbtO9T-v5"
      },
      "source": [
        "# **oBTAIN dATASET AND CONCATENATE**"
      ]
    },
    {
      "cell_type": "code",
      "execution_count": null,
      "metadata": {
        "id": "g83OZ5KYTFC8"
      },
      "outputs": [],
      "source": [
        "def process_custom_folder(custom_path):\n",
        "    emotions = {'HAP': 'happy', 'SAD': 'sad', 'ANG': 'angry'}\n",
        "\n",
        "    file_emotion = []\n",
        "    file_path = []\n",
        "\n",
        "    for root, _, files in os.walk(custom_path):\n",
        "        for file in files:\n",
        "            part = file.split('-')\n",
        "            emotion = emotions.get(part[1], 'Unknown')\n",
        "            file_emotion.append(emotion)\n",
        "            file_path.append(os.path.join(root, file))\n",
        "\n",
        "    emotion_df = pd.DataFrame(file_emotion, columns=['Emotions'])\n",
        "    path_df = pd.DataFrame(file_path, columns=['Path'])\n",
        "    custom_df = pd.concat([emotion_df, path_df], axis=1)\n",
        "\n",
        "    return custom_df\n",
        "\n",
        "# Define your paths\n",
        "customized_path_to_single = \"/content/drive/MyDrive/Colz_Project/Project Dataset\"\n",
        "customized_path_to_double = \"/content/drive/MyDrive/Colz_Project/Project Dataset\"\n",
        "customized_path_to_triple = \"/content/drive/MyDrive/Colz_Project/Project Dataset\"\n",
        "customized_path_to_fourth = \"/content/drive/MyDrive/Colz_Project/Project Dataset\"\n",
        "customized_path_to_fifth = \"/content/drive/MyDrive/Colz_Project/Project Dataset\"\n",
        "customized_path_to_sixth = \"/content/drive/MyDrive/Colz_Project/Project Dataset\"\n",
        "customized_path_to_seventh = \"/content/drive/MyDrive/Colz_Project/Project Dataset\"\n",
        "customized_path_to_eight = \"/content/drive/MyDrive/Colz_Project/Project Dataset\"\n",
        "customized_path_to_ninth = \"/content/drive/MyDrive/Colz_Project/Project Dataset\"\n",
        "customized_path_to_tenth = \"/content/drive/MyDrive/Colz_Project/Project Dataset\"\n",
        "\n",
        "# Process each custom folder\n",
        "single_df = process_custom_folder(customized_path_to_single)\n",
        "double_df = process_custom_folder(customized_path_to_double)\n",
        "triple_df = process_custom_folder(customized_path_to_triple)\n",
        "fourth_df = process_custom_folder(customized_path_to_fourth)\n",
        "fifth_df = process_custom_folder(customized_path_to_fifth)\n",
        "sixth_df = process_custom_folder(customized_path_to_sixth)\n",
        "\n",
        "seventh_df = process_custom_folder(customized_path_to_seventh)\n",
        "eight_df = process_custom_folder(customized_path_to_eight)\n",
        "ninth_df = process_custom_folder(customized_path_to_ninth)\n",
        "tenth_df = process_custom_folder(customized_path_to_tenth)\n",
        "\n",
        "# Concatenate the results\n",
        "# Total_df = pd.concat([single_df, double_df, triple_df,fourth_df,fifth_df,sixth_df,seventh_df,eight_df,ninth_df,tenth_df])\n",
        "# Total_df = pd.concat([single_df, double_df, triple_df,fourth_df,fifth_df,sixth_df,seventh_df,eight_df,ninth_df])\n",
        "Total_df = pd.concat([single_df, double_df, triple_df,fourth_df,fifth_df,sixth_df,seventh_df,eight_df])\n",
        "# Total_df = pd.concat([single_df, double_df, triple_df,fourth_df,fifth_df,sixth_df])\n",
        "# Total_df = pd.concat([single_df])\n",
        "\n",
        "# Define custom order for emotions\n",
        "custom_order = ['angry', 'happy', 'sad']\n",
        "\n",
        "# Sort and reset index\n",
        "Total_df['Emotions'] = pd.Categorical(Total_df['Emotions'], categories=custom_order, ordered=True)\n",
        "Total_df.sort_values('Emotions', inplace=True)\n",
        "Total_df.reset_index(drop=True, inplace=True)"
      ]
    },
    {
      "cell_type": "code",
      "execution_count": null,
      "metadata": {
        "colab": {
          "base_uri": "https://localhost:8080/"
        },
        "id": "scgjhEHj6Ov_",
        "outputId": "24ba85b2-2d90-4f16-b1e0-6882cc8f6ff3"
      },
      "outputs": [
        {
          "output_type": "execute_result",
          "data": {
            "text/plain": [
              "angry    156\n",
              "happy    155\n",
              "sad      142\n",
              "Name: Emotions, dtype: int64"
            ]
          },
          "metadata": {},
          "execution_count": 4
        }
      ],
      "source": [
        "Single_df = pd.concat([single_df])\n",
        "\n",
        "# Define custom order for emotions\n",
        "custom_order = ['angry', 'happy', 'sad']\n",
        "\n",
        "# Sort and reset index\n",
        "Single_df['Emotions'] = pd.Categorical(Single_df['Emotions'], categories=custom_order, ordered=True)\n",
        "Single_df.sort_values('Emotions', inplace=True)\n",
        "Single_df.reset_index(drop=True, inplace=True)\n",
        "Single_df['Emotions'].value_counts()"
      ]
    },
    {
      "cell_type": "markdown",
      "metadata": {
        "id": "oo1Koo-Fp19A"
      },
      "source": [
        "# **Data Visualisation and Exploration**"
      ]
    },
    {
      "cell_type": "code",
      "execution_count": null,
      "metadata": {
        "colab": {
          "base_uri": "https://localhost:8080/"
        },
        "id": "Tz1ZgTs7p1PX",
        "outputId": "b3180d90-49e6-4445-e2b2-3142b1a5aa8b"
      },
      "outputs": [
        {
          "output_type": "execute_result",
          "data": {
            "text/plain": [
              "angry    1248\n",
              "happy    1240\n",
              "sad      1136\n",
              "Name: Emotions, dtype: int64"
            ]
          },
          "metadata": {},
          "execution_count": 5
        }
      ],
      "source": [
        "Total_df['Emotions'].value_counts()"
      ]
    },
    {
      "cell_type": "code",
      "execution_count": null,
      "metadata": {
        "colab": {
          "base_uri": "https://localhost:8080/",
          "height": 504
        },
        "id": "RUmky-LvnHr9",
        "outputId": "b6f1b93d-3c41-4166-805c-792e2ebfbb0b"
      },
      "outputs": [
        {
          "output_type": "display_data",
          "data": {
            "text/plain": [
              "<Figure size 640x480 with 1 Axes>"
            ],
            "image/png": "[encoded data removed]"
          },
          "metadata": {}
        }
      ],
      "source": [
        "emotion_counts = Total_df['Emotions'].value_counts()\n",
        "plt.title('Count of Emotions', size=16)\n",
        "sn.barplot(x=emotion_counts.index, y=emotion_counts.values)\n",
        "plt.ylabel('Count', size=12)\n",
        "plt.xlabel('Emotions', size=12)\n",
        "sn.despine(top=True, right=True, left=False, bottom=False)\n",
        "plt.xticks(rotation=45)  # Rotate the x-axis labels for better visibility\n",
        "plt.show()"
      ]
    },
    {
      "cell_type": "markdown",
      "metadata": {
        "id": "wAdDgQa6qBcK"
      },
      "source": [
        "# **Feature extration without noise**"
      ]
    },
    {
      "cell_type": "code",
      "execution_count": null,
      "metadata": {
        "id": "ia1vzXyNnHnf"
      },
      "outputs": [],
      "source": [
        "def extract_mfcc(filename):\n",
        "    y, sr = librosa.load(filename, duration=3, offset=0.5)\n",
        "    mfcc = np.mean(librosa.feature.mfcc(y=y, sr=sr, n_mfcc=40).T, axis=0)\n",
        "    return mfcc"
      ]
    },
    {
      "cell_type": "code",
      "execution_count": null,
      "metadata": {
        "colab": {
          "base_uri": "https://localhost:8080/"
        },
        "id": "b7y5LoR3nHWv",
        "outputId": "084d66a1-8cb6-4027-f7ad-7c1c064797dc"
      },
      "outputs": [
        {
          "output_type": "execute_result",
          "data": {
            "text/plain": [
              "array([-3.3545691e+02,  1.0716609e+02,  1.2282484e+01,  1.6858618e+01,\n",
              "        5.6708612e+00, -9.4943857e+00, -2.2980003e+01, -1.0159870e+01,\n",
              "       -1.9998955e+01, -2.9610243e+00, -1.7921026e+01, -8.1803961e+00,\n",
              "       -8.4168530e+00, -8.4961510e+00, -3.4292686e+00, -7.1278353e+00,\n",
              "       -9.6054497e+00, -5.2263713e-01, -4.3525977e+00, -7.0342140e+00,\n",
              "       -7.3958840e+00, -4.5200491e+00, -8.2013006e+00, -9.1609192e+00,\n",
              "       -4.4578724e+00, -6.2741833e+00, -4.6869841e+00, -4.9448700e+00,\n",
              "       -6.8090076e+00, -6.9386501e+00, -9.2961636e+00, -8.9846115e+00,\n",
              "       -7.1051707e+00, -3.1209669e+00, -1.3323501e+00, -1.8934696e+00,\n",
              "       -4.0476775e-01,  9.6385908e-01, -3.8542461e-01, -3.8017750e-02],\n",
              "      dtype=float32)"
            ]
          },
          "metadata": {},
          "execution_count": 8
        }
      ],
      "source": [
        "extract_mfcc(Total_df['Path'][0])"
      ]
    },
    {
      "cell_type": "code",
      "execution_count": null,
      "metadata": {
        "id": "airEcaAYnHSn"
      },
      "outputs": [],
      "source": [
        "X_mfcc = Total_df['Path'].apply(lambda x: extract_mfcc(x))"
      ]
    },
    {
      "cell_type": "code",
      "execution_count": null,
      "metadata": {
        "colab": {
          "base_uri": "https://localhost:8080/"
        },
        "id": "iqZ-AXGNnHN9",
        "outputId": "ae14cbc8-d03b-4868-e40a-83cc2474b221"
      },
      "outputs": [
        {
          "output_type": "execute_result",
          "data": {
            "text/plain": [
              "0       [-335.4569, 107.16609, 12.282484, 16.858618, 5...\n",
              "1       [-235.47725, 106.55053, 14.641189, 7.982081, -...\n",
              "2       [-250.3925, 108.89542, 6.329525, 20.36826, -0....\n",
              "3       [-244.11914, 128.38426, 5.8294, 24.819311, -5....\n",
              "4       [-254.24203, 122.79472, -0.3921398, 33.569077,...\n",
              "                              ...                        \n",
              "3619    [-436.82898, 93.14208, 36.457317, 19.931135, -...\n",
              "3620    [-394.7591, 120.906, 47.892788, 20.275606, -14...\n",
              "3621    [-322.3493, 92.61464, 5.1986012, 11.296389, 18...\n",
              "3622    [-342.38098, 85.56315, 13.26212, 20.18416, 6.9...\n",
              "3623    [-334.63574, 76.56946, 6.426545, 16.223581, 20...\n",
              "Name: Path, Length: 3624, dtype: object"
            ]
          },
          "metadata": {},
          "execution_count": 10
        }
      ],
      "source": [
        "X_mfcc"
      ]
    },
    {
      "cell_type": "code",
      "execution_count": null,
      "metadata": {
        "colab": {
          "base_uri": "https://localhost:8080/"
        },
        "id": "lwbqUAApnHKV",
        "outputId": "cf8fd4aa-034a-41f6-8871-95acab13f64d"
      },
      "outputs": [
        {
          "output_type": "execute_result",
          "data": {
            "text/plain": [
              "(3624, 40)"
            ]
          },
          "metadata": {},
          "execution_count": 11
        }
      ],
      "source": [
        "X = [x for x in X_mfcc]\n",
        "X = np.array(X)\n",
        "X.shape"
      ]
    },
    {
      "cell_type": "code",
      "execution_count": null,
      "metadata": {
        "colab": {
          "base_uri": "https://localhost:8080/"
        },
        "id": "gMnQwmjUnHGg",
        "outputId": "9ca82859-6e51-4125-a248-811bda13d542"
      },
      "outputs": [
        {
          "output_type": "execute_result",
          "data": {
            "text/plain": [
              "(3624, 40, 1)"
            ]
          },
          "metadata": {},
          "execution_count": 12
        }
      ],
      "source": [
        "## input split\n",
        "X = np.expand_dims(X, -1)\n",
        "X.shape"
      ]
    },
    {
      "cell_type": "code",
      "execution_count": null,
      "metadata": {
        "id": "895xcmGLnHDA"
      },
      "outputs": [],
      "source": [
        "from sklearn.preprocessing import OneHotEncoder\n",
        "enc = OneHotEncoder()\n",
        "y = enc.fit_transform(Total_df[['Emotions']])"
      ]
    },
    {
      "cell_type": "code",
      "execution_count": null,
      "metadata": {
        "id": "HjfQvpudqWma"
      },
      "outputs": [],
      "source": [
        "y = y.toarray()"
      ]
    },
    {
      "cell_type": "code",
      "execution_count": null,
      "metadata": {
        "colab": {
          "base_uri": "https://localhost:8080/"
        },
        "id": "_1MJH4dvqWbU",
        "outputId": "1ef40a10-2295-4e70-bcc2-ce2ac00b37ca"
      },
      "outputs": [
        {
          "output_type": "execute_result",
          "data": {
            "text/plain": [
              "(3624, 3)"
            ]
          },
          "metadata": {},
          "execution_count": 15
        }
      ],
      "source": [
        "y.shape"
      ]
    },
    {
      "cell_type": "markdown",
      "metadata": {
        "id": "9tdxGJMzqrcc"
      },
      "source": [
        "# **Split your dataset into training and testing sets**"
      ]
    },
    {
      "cell_type": "code",
      "execution_count": null,
      "metadata": {
        "colab": {
          "base_uri": "https://localhost:8080/"
        },
        "id": "6e5JRTVYqWWH",
        "outputId": "1421a692-030b-4bd5-cc64-3e87fabb31eb"
      },
      "outputs": [
        {
          "output_type": "stream",
          "name": "stdout",
          "text": [
            "X_train shape: (724, 40, 1)\n",
            "y_train shape: (724, 3)\n",
            "X_validation shape: (1450, 40, 1)\n",
            "y_validation shape: (1450, 3)\n",
            "X_test shape: (1450, 40, 1)\n",
            "y_test shape: (1450, 3)\n"
          ]
        }
      ],
      "source": [
        "from sklearn.model_selection import train_test_split\n",
        "\n",
        "# Assuming X and y are your features and labels for both clean and noisy data\n",
        "X_train, X_temp, y_train, y_temp = train_test_split(X, y, test_size=0.8, random_state=42)\n",
        "\n",
        "# Further split the training set into training and validation sets\n",
        "X_validation, X_test, y_validation, y_test =  train_test_split(X_temp, y_temp, test_size=0.5, random_state=42)\n",
        "\n",
        "print(\"X_train shape:\", X_train.shape)\n",
        "print(\"y_train shape:\", y_train.shape)\n",
        "print(\"X_validation shape:\", X_validation.shape)\n",
        "print(\"y_validation shape:\", y_validation.shape)\n",
        "print(\"X_test shape:\", X_test.shape)\n",
        "print(\"y_test shape:\", y_test.shape)"
      ]
    },
    {
      "cell_type": "markdown",
      "metadata": {
        "id": "VJ0tSq7yrAwP"
      },
      "source": [
        "# **model**"
      ]
    },
    {
      "cell_type": "code",
      "execution_count": null,
      "metadata": {
        "id": "jHZydFPKqWPz"
      },
      "outputs": [],
      "source": [
        "import pandas as pd\n",
        "import numpy as np\n",
        "\n",
        "import os\n",
        "import sys\n",
        "\n",
        "import librosa\n",
        "import librosa.display\n",
        "import seaborn as sns\n",
        "import matplotlib.pyplot as plt\n",
        "\n",
        "from sklearn.preprocessing import StandardScaler, OneHotEncoder\n",
        "from sklearn.metrics import confusion_matrix, classification_report\n",
        "from sklearn.model_selection import train_test_split\n",
        "\n",
        "from IPython.display import Audio\n",
        "\n",
        "import tensorflow as tf\n",
        "from keras.layers import *\n",
        "from keras.regularizers import l2\n",
        "import warnings\n",
        "if not sys.warnoptions:\n",
        "    warnings.simplefilter(\"ignore\")\n",
        "warnings.filterwarnings(\"ignore\", category=DeprecationWarning)\n",
        "\n",
        "from tensorflow.keras.models import Sequential,load_model\n",
        "from tensorflow.keras.losses import Loss\n",
        "from tensorflow.keras.optimizers import Optimizer\n",
        "from tensorflow.keras.optimizers import Adam\n",
        "from tensorflow.keras.callbacks import ModelCheckpoint, EarlyStopping, ReduceLROnPlateau\n",
        "from tensorflow.keras.layers import BatchNormalization"
      ]
    },
    {
      "cell_type": "code",
      "execution_count": null,
      "metadata": {
        "id": "WU9gdYHsVSvX"
      },
      "outputs": [],
      "source": [
        "\n",
        "# Define the checkpoint filepath on Google Drive\n",
        "checkpoint_path = '/content/drive/MyDrive/Colz_Project/Extra Files'\n",
        "\n",
        "# Create a ModelCheckpoint callback to save the best model\n",
        "checkpoint = ModelCheckpoint(checkpoint_path, monitor='val_accuracy', save_best_only=True, mode='max', verbose=1)"
      ]
    },
    {
      "cell_type": "markdown",
      "metadata": {
        "id": "s0JjenlQGW4k"
      },
      "source": [
        "# **Actual Model**"
      ]
    },
    {
      "cell_type": "code",
      "execution_count": null,
      "metadata": {
        "id": "Pr9ZQk9TjQjf"
      },
      "outputs": [],
      "source": [
        "# #Build sequential CNN\n",
        "# model = Sequential()\n",
        "\n",
        "# #Build first layer\n",
        "# model.add(Conv1D(16, 5,padding='same',\n",
        "#                  input_shape=(40, 1), activation='relu'))\n",
        "\n",
        "# #Build second layer\n",
        "# model.add(Conv1D(32, 5,padding='same',activation='relu'))\n",
        "\n",
        "# #Build third layer\n",
        "# model.add(Conv1D(64, 5,padding='same',activation='relu'))\n",
        "\n",
        "# #Build forth layer\n",
        "# model.add(Conv1D(128, 5,padding='same',activation='relu'))\n",
        "\n",
        "# #Add dropout\n",
        "# model.add(Dropout(0.2))\n",
        "\n",
        "# #Flatten\n",
        "# model.add(Flatten())\n",
        "\n",
        "# model.add(Dense(128, activation ='relu'))\n",
        "# # model.add(Dropout(0.25))\n",
        "# model.add(Dense(64, activation ='relu'))\n",
        "# model.add(Dense(64, activation ='relu'))\n",
        "# model.add(Dense(3, activation='softmax'))"
      ]
    },
    {
      "cell_type": "code",
      "execution_count": null,
      "metadata": {
        "id": "7UgnXk0OVvXl"
      },
      "outputs": [],
      "source": [
        "model = Sequential()\n",
        "\n",
        "model.add(Conv1D(16, 5,padding='same',input_shape=(40, 1), activation='relu'))\n",
        "model.add(MaxPooling1D(pool_size=2))\n",
        "model.add(Conv1D(32, 5,padding='same',activation='relu'))\n",
        "model.add(Conv1D(64, 5,padding='same',activation='relu'))\n",
        "model.add(Conv1D(128, 5,padding='same',activation='relu'))\n",
        "model.add(Conv1D(256, 5,padding='same',activation='relu'))\n",
        "\n",
        "model.add(LSTM(128, return_sequences=True))\n",
        "model.add(Dropout(0.3))\n",
        "model.add(LSTM(64))\n",
        "model.add(Dropout(0.3))\n",
        "# model.add(LSTM(32))\n",
        "# model.add(Dropout(0.2))\n",
        "\n",
        "model.add(Dense(128, activation ='relu'))\n",
        "model.add(Dropout(0.3))\n",
        "\n",
        "model.add(Dense(64, activation ='relu'))\n",
        "model.add(Dense(64, activation ='relu'))\n",
        "model.add(Dense(3, activation='softmax'))"
      ]
    },
    {
      "cell_type": "code",
      "execution_count": null,
      "metadata": {
        "colab": {
          "base_uri": "https://localhost:8080/"
        },
        "id": "yVZSXOokqV73",
        "outputId": "02fb31e6-1c66-448f-c6c5-f6c58acb9c00"
      },
      "outputs": [
        {
          "output_type": "stream",
          "name": "stdout",
          "text": [
            "Epoch 1/120\n",
            "1/1 [==============================] - ETA: 0s - loss: 1.1050 - accuracy: 0.3108\n",
            "Epoch 1: val_accuracy did not improve from 0.94069\n",
            "1/1 [==============================] - 9s 9s/step - loss: 1.1050 - accuracy: 0.3108 - val_loss: 1.0960 - val_accuracy: 0.3055\n",
            "Epoch 2/120\n",
            "1/1 [==============================] - ETA: 0s - loss: 1.1017 - accuracy: 0.3135\n",
            "Epoch 2: val_accuracy did not improve from 0.94069\n",
            "1/1 [==============================] - 2s 2s/step - loss: 1.1017 - accuracy: 0.3135 - val_loss: 1.0979 - val_accuracy: 0.2938\n",
            "Epoch 3/120\n",
            "1/1 [==============================] - ETA: 0s - loss: 1.0999 - accuracy: 0.3301\n",
            "Epoch 3: val_accuracy did not improve from 0.94069\n",
            "1/1 [==============================] - 3s 3s/step - loss: 1.0999 - accuracy: 0.3301 - val_loss: 1.0965 - val_accuracy: 0.2938\n",
            "Epoch 4/120\n",
            "1/1 [==============================] - ETA: 0s - loss: 1.0964 - accuracy: 0.3522\n",
            "Epoch 4: val_accuracy did not improve from 0.94069\n",
            "1/1 [==============================] - 2s 2s/step - loss: 1.0964 - accuracy: 0.3522 - val_loss: 1.0962 - val_accuracy: 0.2938\n",
            "Epoch 5/120\n",
            "1/1 [==============================] - ETA: 0s - loss: 1.0953 - accuracy: 0.3591\n",
            "Epoch 5: val_accuracy did not improve from 0.94069\n",
            "1/1 [==============================] - 2s 2s/step - loss: 1.0953 - accuracy: 0.3591 - val_loss: 1.0952 - val_accuracy: 0.2938\n",
            "Epoch 6/120\n",
            "1/1 [==============================] - ETA: 0s - loss: 1.0955 - accuracy: 0.3384\n",
            "Epoch 6: val_accuracy did not improve from 0.94069\n",
            "1/1 [==============================] - 2s 2s/step - loss: 1.0955 - accuracy: 0.3384 - val_loss: 1.0939 - val_accuracy: 0.3186\n",
            "Epoch 7/120\n",
            "1/1 [==============================] - ETA: 0s - loss: 1.0947 - accuracy: 0.3605\n",
            "Epoch 7: val_accuracy did not improve from 0.94069\n",
            "1/1 [==============================] - 2s 2s/step - loss: 1.0947 - accuracy: 0.3605 - val_loss: 1.0919 - val_accuracy: 0.3386\n",
            "Epoch 8/120\n",
            "1/1 [==============================] - ETA: 0s - loss: 1.0945 - accuracy: 0.3550\n",
            "Epoch 8: val_accuracy did not improve from 0.94069\n",
            "1/1 [==============================] - 2s 2s/step - loss: 1.0945 - accuracy: 0.3550 - val_loss: 1.0899 - val_accuracy: 0.3779\n",
            "Epoch 9/120\n",
            "1/1 [==============================] - ETA: 0s - loss: 1.0915 - accuracy: 0.3771\n",
            "Epoch 9: val_accuracy did not improve from 0.94069\n",
            "1/1 [==============================] - 3s 3s/step - loss: 1.0915 - accuracy: 0.3771 - val_loss: 1.0878 - val_accuracy: 0.4310\n",
            "Epoch 10/120\n",
            "1/1 [==============================] - ETA: 0s - loss: 1.0880 - accuracy: 0.4144\n",
            "Epoch 10: val_accuracy did not improve from 0.94069\n",
            "1/1 [==============================] - 2s 2s/step - loss: 1.0880 - accuracy: 0.4144 - val_loss: 1.0853 - val_accuracy: 0.4531\n",
            "Epoch 11/120\n",
            "1/1 [==============================] - ETA: 0s - loss: 1.0873 - accuracy: 0.4006\n",
            "Epoch 11: val_accuracy did not improve from 0.94069\n",
            "1/1 [==============================] - 2s 2s/step - loss: 1.0873 - accuracy: 0.4006 - val_loss: 1.0817 - val_accuracy: 0.4793\n",
            "Epoch 12/120\n",
            "1/1 [==============================] - ETA: 0s - loss: 1.0844 - accuracy: 0.4047\n",
            "Epoch 12: val_accuracy did not improve from 0.94069\n",
            "1/1 [==============================] - 2s 2s/step - loss: 1.0844 - accuracy: 0.4047 - val_loss: 1.0778 - val_accuracy: 0.4821\n",
            "Epoch 13/120\n",
            "1/1 [==============================] - ETA: 0s - loss: 1.0801 - accuracy: 0.4420\n",
            "Epoch 13: val_accuracy did not improve from 0.94069\n",
            "1/1 [==============================] - 2s 2s/step - loss: 1.0801 - accuracy: 0.4420 - val_loss: 1.0742 - val_accuracy: 0.4759\n",
            "Epoch 14/120\n",
            "1/1 [==============================] - ETA: 0s - loss: 1.0811 - accuracy: 0.4613\n",
            "Epoch 14: val_accuracy did not improve from 0.94069\n",
            "1/1 [==============================] - 2s 2s/step - loss: 1.0811 - accuracy: 0.4613 - val_loss: 1.0705 - val_accuracy: 0.4841\n",
            "Epoch 15/120\n",
            "1/1 [==============================] - ETA: 0s - loss: 1.0748 - accuracy: 0.4710\n",
            "Epoch 15: val_accuracy did not improve from 0.94069\n",
            "1/1 [==============================] - 2s 2s/step - loss: 1.0748 - accuracy: 0.4710 - val_loss: 1.0666 - val_accuracy: 0.4883\n",
            "Epoch 16/120\n",
            "1/1 [==============================] - ETA: 0s - loss: 1.0723 - accuracy: 0.4682\n",
            "Epoch 16: val_accuracy did not improve from 0.94069\n",
            "1/1 [==============================] - 1s 1s/step - loss: 1.0723 - accuracy: 0.4682 - val_loss: 1.0625 - val_accuracy: 0.4979\n",
            "Epoch 17/120\n",
            "1/1 [==============================] - ETA: 0s - loss: 1.0693 - accuracy: 0.4710\n",
            "Epoch 17: val_accuracy did not improve from 0.94069\n",
            "1/1 [==============================] - 2s 2s/step - loss: 1.0693 - accuracy: 0.4710 - val_loss: 1.0581 - val_accuracy: 0.5097\n",
            "Epoch 18/120\n",
            "1/1 [==============================] - ETA: 0s - loss: 1.0669 - accuracy: 0.4807\n",
            "Epoch 18: val_accuracy did not improve from 0.94069\n",
            "1/1 [==============================] - 3s 3s/step - loss: 1.0669 - accuracy: 0.4807 - val_loss: 1.0534 - val_accuracy: 0.5228\n",
            "Epoch 19/120\n",
            "1/1 [==============================] - ETA: 0s - loss: 1.0614 - accuracy: 0.5318\n",
            "Epoch 19: val_accuracy did not improve from 0.94069\n",
            "1/1 [==============================] - 2s 2s/step - loss: 1.0614 - accuracy: 0.5318 - val_loss: 1.0486 - val_accuracy: 0.5283\n",
            "Epoch 20/120\n",
            "1/1 [==============================] - ETA: 0s - loss: 1.0573 - accuracy: 0.5290\n",
            "Epoch 20: val_accuracy did not improve from 0.94069\n",
            "1/1 [==============================] - 1s 1s/step - loss: 1.0573 - accuracy: 0.5290 - val_loss: 1.0433 - val_accuracy: 0.5352\n",
            "Epoch 21/120\n",
            "1/1 [==============================] - ETA: 0s - loss: 1.0507 - accuracy: 0.5594\n",
            "Epoch 21: val_accuracy did not improve from 0.94069\n",
            "1/1 [==============================] - 2s 2s/step - loss: 1.0507 - accuracy: 0.5594 - val_loss: 1.0366 - val_accuracy: 0.5421\n",
            "Epoch 22/120\n",
            "1/1 [==============================] - ETA: 0s - loss: 1.0455 - accuracy: 0.5566\n",
            "Epoch 22: val_accuracy did not improve from 0.94069\n",
            "1/1 [==============================] - 1s 1s/step - loss: 1.0455 - accuracy: 0.5566 - val_loss: 1.0295 - val_accuracy: 0.5393\n",
            "Epoch 23/120\n",
            "1/1 [==============================] - ETA: 0s - loss: 1.0430 - accuracy: 0.5552\n",
            "Epoch 23: val_accuracy did not improve from 0.94069\n",
            "1/1 [==============================] - 2s 2s/step - loss: 1.0430 - accuracy: 0.5552 - val_loss: 1.0222 - val_accuracy: 0.5434\n",
            "Epoch 24/120\n",
            "1/1 [==============================] - ETA: 0s - loss: 1.0349 - accuracy: 0.5635\n",
            "Epoch 24: val_accuracy did not improve from 0.94069\n",
            "1/1 [==============================] - 2s 2s/step - loss: 1.0349 - accuracy: 0.5635 - val_loss: 1.0143 - val_accuracy: 0.5490\n",
            "Epoch 25/120\n",
            "1/1 [==============================] - ETA: 0s - loss: 1.0275 - accuracy: 0.5663\n",
            "Epoch 25: val_accuracy did not improve from 0.94069\n",
            "1/1 [==============================] - 3s 3s/step - loss: 1.0275 - accuracy: 0.5663 - val_loss: 1.0061 - val_accuracy: 0.5497\n",
            "Epoch 26/120\n",
            "1/1 [==============================] - ETA: 0s - loss: 1.0160 - accuracy: 0.5939\n",
            "Epoch 26: val_accuracy did not improve from 0.94069\n",
            "1/1 [==============================] - 2s 2s/step - loss: 1.0160 - accuracy: 0.5939 - val_loss: 0.9976 - val_accuracy: 0.5634\n",
            "Epoch 27/120\n",
            "1/1 [==============================] - ETA: 0s - loss: 1.0149 - accuracy: 0.5870\n",
            "Epoch 27: val_accuracy did not improve from 0.94069\n",
            "1/1 [==============================] - 2s 2s/step - loss: 1.0149 - accuracy: 0.5870 - val_loss: 0.9886 - val_accuracy: 0.5669\n",
            "Epoch 28/120\n",
            "1/1 [==============================] - ETA: 0s - loss: 1.0093 - accuracy: 0.5870\n",
            "Epoch 28: val_accuracy did not improve from 0.94069\n",
            "1/1 [==============================] - 1s 1s/step - loss: 1.0093 - accuracy: 0.5870 - val_loss: 0.9792 - val_accuracy: 0.5738\n",
            "Epoch 29/120\n",
            "1/1 [==============================] - ETA: 0s - loss: 1.0003 - accuracy: 0.5925\n",
            "Epoch 29: val_accuracy did not improve from 0.94069\n",
            "1/1 [==============================] - 2s 2s/step - loss: 1.0003 - accuracy: 0.5925 - val_loss: 0.9694 - val_accuracy: 0.5807\n",
            "Epoch 30/120\n",
            "1/1 [==============================] - ETA: 0s - loss: 0.9846 - accuracy: 0.6160\n",
            "Epoch 30: val_accuracy did not improve from 0.94069\n",
            "1/1 [==============================] - 2s 2s/step - loss: 0.9846 - accuracy: 0.6160 - val_loss: 0.9596 - val_accuracy: 0.5917\n",
            "Epoch 31/120\n",
            "1/1 [==============================] - ETA: 0s - loss: 0.9855 - accuracy: 0.5870\n",
            "Epoch 31: val_accuracy did not improve from 0.94069\n",
            "1/1 [==============================] - 2s 2s/step - loss: 0.9855 - accuracy: 0.5870 - val_loss: 0.9492 - val_accuracy: 0.5862\n",
            "Epoch 32/120\n",
            "1/1 [==============================] - ETA: 0s - loss: 0.9656 - accuracy: 0.6423\n",
            "Epoch 32: val_accuracy did not improve from 0.94069\n",
            "1/1 [==============================] - 2s 2s/step - loss: 0.9656 - accuracy: 0.6423 - val_loss: 0.9383 - val_accuracy: 0.5945\n",
            "Epoch 33/120\n",
            "1/1 [==============================] - ETA: 0s - loss: 0.9593 - accuracy: 0.6354\n",
            "Epoch 33: val_accuracy did not improve from 0.94069\n",
            "1/1 [==============================] - 3s 3s/step - loss: 0.9593 - accuracy: 0.6354 - val_loss: 0.9273 - val_accuracy: 0.5972\n",
            "Epoch 34/120\n",
            "1/1 [==============================] - ETA: 0s - loss: 0.9428 - accuracy: 0.6506\n",
            "Epoch 34: val_accuracy did not improve from 0.94069\n",
            "1/1 [==============================] - 2s 2s/step - loss: 0.9428 - accuracy: 0.6506 - val_loss: 0.9168 - val_accuracy: 0.6097\n",
            "Epoch 35/120\n",
            "1/1 [==============================] - ETA: 0s - loss: 0.9390 - accuracy: 0.6340\n",
            "Epoch 35: val_accuracy did not improve from 0.94069\n",
            "1/1 [==============================] - 2s 2s/step - loss: 0.9390 - accuracy: 0.6340 - val_loss: 0.9106 - val_accuracy: 0.6103\n",
            "Epoch 36/120\n",
            "1/1 [==============================] - ETA: 0s - loss: 0.9284 - accuracy: 0.6478\n",
            "Epoch 36: val_accuracy did not improve from 0.94069\n",
            "1/1 [==============================] - 1s 1s/step - loss: 0.9284 - accuracy: 0.6478 - val_loss: 0.8969 - val_accuracy: 0.6186\n",
            "Epoch 37/120\n",
            "1/1 [==============================] - ETA: 0s - loss: 0.9226 - accuracy: 0.6630\n",
            "Epoch 37: val_accuracy did not improve from 0.94069\n",
            "1/1 [==============================] - 2s 2s/step - loss: 0.9226 - accuracy: 0.6630 - val_loss: 0.8905 - val_accuracy: 0.6166\n",
            "Epoch 38/120\n",
            "1/1 [==============================] - ETA: 0s - loss: 0.9110 - accuracy: 0.6588\n",
            "Epoch 38: val_accuracy did not improve from 0.94069\n",
            "1/1 [==============================] - 2s 2s/step - loss: 0.9110 - accuracy: 0.6588 - val_loss: 0.8737 - val_accuracy: 0.6234\n",
            "Epoch 39/120\n",
            "1/1 [==============================] - ETA: 0s - loss: 0.8932 - accuracy: 0.6865\n",
            "Epoch 39: val_accuracy did not improve from 0.94069\n",
            "1/1 [==============================] - 2s 2s/step - loss: 0.8932 - accuracy: 0.6865 - val_loss: 0.8729 - val_accuracy: 0.6338\n",
            "Epoch 40/120\n",
            "1/1 [==============================] - ETA: 0s - loss: 0.8911 - accuracy: 0.6823\n",
            "Epoch 40: val_accuracy did not improve from 0.94069\n",
            "1/1 [==============================] - 2s 2s/step - loss: 0.8911 - accuracy: 0.6823 - val_loss: 0.8546 - val_accuracy: 0.6331\n",
            "Epoch 41/120\n",
            "1/1 [==============================] - ETA: 0s - loss: 0.8724 - accuracy: 0.6809\n",
            "Epoch 41: val_accuracy did not improve from 0.94069\n",
            "1/1 [==============================] - 2s 2s/step - loss: 0.8724 - accuracy: 0.6809 - val_loss: 0.8534 - val_accuracy: 0.6359\n",
            "Epoch 42/120\n",
            "1/1 [==============================] - ETA: 0s - loss: 0.8625 - accuracy: 0.6823\n",
            "Epoch 42: val_accuracy did not improve from 0.94069\n",
            "1/1 [==============================] - 2s 2s/step - loss: 0.8625 - accuracy: 0.6823 - val_loss: 0.8401 - val_accuracy: 0.6393\n",
            "Epoch 43/120\n",
            "1/1 [==============================] - ETA: 0s - loss: 0.8534 - accuracy: 0.6699\n",
            "Epoch 43: val_accuracy did not improve from 0.94069\n",
            "1/1 [==============================] - 2s 2s/step - loss: 0.8534 - accuracy: 0.6699 - val_loss: 0.8285 - val_accuracy: 0.6393\n",
            "Epoch 44/120\n",
            "1/1 [==============================] - ETA: 0s - loss: 0.8457 - accuracy: 0.6865\n",
            "Epoch 44: val_accuracy did not improve from 0.94069\n",
            "1/1 [==============================] - 2s 2s/step - loss: 0.8457 - accuracy: 0.6865 - val_loss: 0.8200 - val_accuracy: 0.6483\n",
            "Epoch 45/120\n",
            "1/1 [==============================] - ETA: 0s - loss: 0.8361 - accuracy: 0.6727\n",
            "Epoch 45: val_accuracy did not improve from 0.94069\n",
            "1/1 [==============================] - 2s 2s/step - loss: 0.8361 - accuracy: 0.6727 - val_loss: 0.8064 - val_accuracy: 0.6559\n",
            "Epoch 46/120\n",
            "1/1 [==============================] - ETA: 0s - loss: 0.8189 - accuracy: 0.6989\n",
            "Epoch 46: val_accuracy did not improve from 0.94069\n",
            "1/1 [==============================] - 2s 2s/step - loss: 0.8189 - accuracy: 0.6989 - val_loss: 0.8090 - val_accuracy: 0.6469\n",
            "Epoch 47/120\n",
            "1/1 [==============================] - ETA: 0s - loss: 0.8184 - accuracy: 0.6878\n",
            "Epoch 47: val_accuracy did not improve from 0.94069\n",
            "1/1 [==============================] - 2s 2s/step - loss: 0.8184 - accuracy: 0.6878 - val_loss: 0.7858 - val_accuracy: 0.6586\n",
            "Epoch 48/120\n",
            "1/1 [==============================] - ETA: 0s - loss: 0.8055 - accuracy: 0.6934\n",
            "Epoch 48: val_accuracy did not improve from 0.94069\n",
            "1/1 [==============================] - 3s 3s/step - loss: 0.8055 - accuracy: 0.6934 - val_loss: 0.7864 - val_accuracy: 0.6414\n",
            "Epoch 49/120\n",
            "1/1 [==============================] - ETA: 0s - loss: 0.8080 - accuracy: 0.6782\n",
            "Epoch 49: val_accuracy did not improve from 0.94069\n",
            "1/1 [==============================] - 2s 2s/step - loss: 0.8080 - accuracy: 0.6782 - val_loss: 0.7710 - val_accuracy: 0.6586\n",
            "Epoch 50/120\n",
            "1/1 [==============================] - ETA: 0s - loss: 0.7818 - accuracy: 0.7072\n",
            "Epoch 50: val_accuracy did not improve from 0.94069\n",
            "1/1 [==============================] - 1s 1s/step - loss: 0.7818 - accuracy: 0.7072 - val_loss: 0.7814 - val_accuracy: 0.6579\n",
            "Epoch 51/120\n",
            "1/1 [==============================] - ETA: 0s - loss: 0.7698 - accuracy: 0.7196\n",
            "Epoch 51: val_accuracy did not improve from 0.94069\n",
            "1/1 [==============================] - 1s 1s/step - loss: 0.7698 - accuracy: 0.7196 - val_loss: 0.7650 - val_accuracy: 0.6759\n",
            "Epoch 52/120\n",
            "1/1 [==============================] - ETA: 0s - loss: 0.7609 - accuracy: 0.7113\n",
            "Epoch 52: val_accuracy did not improve from 0.94069\n",
            "1/1 [==============================] - 2s 2s/step - loss: 0.7609 - accuracy: 0.7113 - val_loss: 0.7466 - val_accuracy: 0.6745\n",
            "Epoch 53/120\n",
            "1/1 [==============================] - ETA: 0s - loss: 0.7550 - accuracy: 0.7141\n",
            "Epoch 53: val_accuracy did not improve from 0.94069\n",
            "1/1 [==============================] - 2s 2s/step - loss: 0.7550 - accuracy: 0.7141 - val_loss: 0.7346 - val_accuracy: 0.6841\n",
            "Epoch 54/120\n",
            "1/1 [==============================] - ETA: 0s - loss: 0.7454 - accuracy: 0.7265\n",
            "Epoch 54: val_accuracy did not improve from 0.94069\n",
            "1/1 [==============================] - 1s 1s/step - loss: 0.7454 - accuracy: 0.7265 - val_loss: 0.7363 - val_accuracy: 0.6986\n",
            "Epoch 55/120\n",
            "1/1 [==============================] - ETA: 0s - loss: 0.7359 - accuracy: 0.7182\n",
            "Epoch 55: val_accuracy did not improve from 0.94069\n",
            "1/1 [==============================] - 2s 2s/step - loss: 0.7359 - accuracy: 0.7182 - val_loss: 0.7344 - val_accuracy: 0.6972\n",
            "Epoch 56/120\n",
            "1/1 [==============================] - ETA: 0s - loss: 0.7195 - accuracy: 0.7238\n",
            "Epoch 56: val_accuracy did not improve from 0.94069\n",
            "1/1 [==============================] - 2s 2s/step - loss: 0.7195 - accuracy: 0.7238 - val_loss: 0.7243 - val_accuracy: 0.6634\n",
            "Epoch 57/120\n",
            "1/1 [==============================] - ETA: 0s - loss: 0.7276 - accuracy: 0.7141\n",
            "Epoch 57: val_accuracy did not improve from 0.94069\n",
            "1/1 [==============================] - 2s 2s/step - loss: 0.7276 - accuracy: 0.7141 - val_loss: 0.7058 - val_accuracy: 0.6945\n",
            "Epoch 58/120\n",
            "1/1 [==============================] - ETA: 0s - loss: 0.7004 - accuracy: 0.7417\n",
            "Epoch 58: val_accuracy did not improve from 0.94069\n",
            "1/1 [==============================] - 2s 2s/step - loss: 0.7004 - accuracy: 0.7417 - val_loss: 0.7035 - val_accuracy: 0.7138\n",
            "Epoch 59/120\n",
            "1/1 [==============================] - ETA: 0s - loss: 0.6963 - accuracy: 0.7569\n",
            "Epoch 59: val_accuracy did not improve from 0.94069\n",
            "1/1 [==============================] - 2s 2s/step - loss: 0.6963 - accuracy: 0.7569 - val_loss: 0.6923 - val_accuracy: 0.7193\n",
            "Epoch 60/120\n",
            "1/1 [==============================] - ETA: 0s - loss: 0.6867 - accuracy: 0.7307\n",
            "Epoch 60: val_accuracy did not improve from 0.94069\n",
            "1/1 [==============================] - 2s 2s/step - loss: 0.6867 - accuracy: 0.7307 - val_loss: 0.6897 - val_accuracy: 0.6683\n",
            "Epoch 61/120\n",
            "1/1 [==============================] - ETA: 0s - loss: 0.6849 - accuracy: 0.7334\n",
            "Epoch 61: val_accuracy did not improve from 0.94069\n",
            "1/1 [==============================] - 2s 2s/step - loss: 0.6849 - accuracy: 0.7334 - val_loss: 0.6853 - val_accuracy: 0.6972\n",
            "Epoch 62/120\n",
            "1/1 [==============================] - ETA: 0s - loss: 0.6637 - accuracy: 0.7431\n",
            "Epoch 62: val_accuracy did not improve from 0.94069\n",
            "1/1 [==============================] - 2s 2s/step - loss: 0.6637 - accuracy: 0.7431 - val_loss: 0.6787 - val_accuracy: 0.7207\n",
            "Epoch 63/120\n",
            "1/1 [==============================] - ETA: 0s - loss: 0.6644 - accuracy: 0.7638\n",
            "Epoch 63: val_accuracy did not improve from 0.94069\n",
            "1/1 [==============================] - 2s 2s/step - loss: 0.6644 - accuracy: 0.7638 - val_loss: 0.6491 - val_accuracy: 0.7421\n",
            "Epoch 64/120\n",
            "1/1 [==============================] - ETA: 0s - loss: 0.6595 - accuracy: 0.7514\n",
            "Epoch 64: val_accuracy did not improve from 0.94069\n",
            "1/1 [==============================] - 2s 2s/step - loss: 0.6595 - accuracy: 0.7514 - val_loss: 0.6430 - val_accuracy: 0.7352\n",
            "Epoch 65/120\n",
            "1/1 [==============================] - ETA: 0s - loss: 0.6440 - accuracy: 0.7735\n",
            "Epoch 65: val_accuracy did not improve from 0.94069\n",
            "1/1 [==============================] - 2s 2s/step - loss: 0.6440 - accuracy: 0.7735 - val_loss: 0.6519 - val_accuracy: 0.7434\n",
            "Epoch 66/120\n",
            "1/1 [==============================] - ETA: 0s - loss: 0.6385 - accuracy: 0.7735\n",
            "Epoch 66: val_accuracy did not improve from 0.94069\n",
            "1/1 [==============================] - 1s 1s/step - loss: 0.6385 - accuracy: 0.7735 - val_loss: 0.6465 - val_accuracy: 0.7476\n",
            "Epoch 67/120\n",
            "1/1 [==============================] - ETA: 0s - loss: 0.6175 - accuracy: 0.7721\n",
            "Epoch 67: val_accuracy did not improve from 0.94069\n",
            "1/1 [==============================] - 2s 2s/step - loss: 0.6175 - accuracy: 0.7721 - val_loss: 0.6204 - val_accuracy: 0.7545\n",
            "Epoch 68/120\n",
            "1/1 [==============================] - ETA: 0s - loss: 0.6207 - accuracy: 0.7804\n",
            "Epoch 68: val_accuracy did not improve from 0.94069\n",
            "1/1 [==============================] - 2s 2s/step - loss: 0.6207 - accuracy: 0.7804 - val_loss: 0.6094 - val_accuracy: 0.7676\n",
            "Epoch 69/120\n",
            "1/1 [==============================] - ETA: 0s - loss: 0.6165 - accuracy: 0.7887\n",
            "Epoch 69: val_accuracy did not improve from 0.94069\n",
            "1/1 [==============================] - 1s 1s/step - loss: 0.6165 - accuracy: 0.7887 - val_loss: 0.6097 - val_accuracy: 0.7786\n",
            "Epoch 70/120\n",
            "1/1 [==============================] - ETA: 0s - loss: 0.6039 - accuracy: 0.7970\n",
            "Epoch 70: val_accuracy did not improve from 0.94069\n",
            "1/1 [==============================] - 2s 2s/step - loss: 0.6039 - accuracy: 0.7970 - val_loss: 0.6209 - val_accuracy: 0.7545\n",
            "Epoch 71/120\n",
            "1/1 [==============================] - ETA: 0s - loss: 0.5950 - accuracy: 0.7762\n",
            "Epoch 71: val_accuracy did not improve from 0.94069\n",
            "1/1 [==============================] - 2s 2s/step - loss: 0.5950 - accuracy: 0.7762 - val_loss: 0.5924 - val_accuracy: 0.7862\n",
            "Epoch 72/120\n",
            "1/1 [==============================] - ETA: 0s - loss: 0.5755 - accuracy: 0.8273\n",
            "Epoch 72: val_accuracy did not improve from 0.94069\n",
            "1/1 [==============================] - 2s 2s/step - loss: 0.5755 - accuracy: 0.8273 - val_loss: 0.5743 - val_accuracy: 0.7938\n",
            "Epoch 73/120\n",
            "1/1 [==============================] - ETA: 0s - loss: 0.5870 - accuracy: 0.7928\n",
            "Epoch 73: val_accuracy did not improve from 0.94069\n",
            "1/1 [==============================] - 2s 2s/step - loss: 0.5870 - accuracy: 0.7928 - val_loss: 0.5699 - val_accuracy: 0.7890\n",
            "Epoch 74/120\n",
            "1/1 [==============================] - ETA: 0s - loss: 0.5663 - accuracy: 0.8177\n",
            "Epoch 74: val_accuracy did not improve from 0.94069\n",
            "1/1 [==============================] - 2s 2s/step - loss: 0.5663 - accuracy: 0.8177 - val_loss: 0.5864 - val_accuracy: 0.8007\n",
            "Epoch 75/120\n",
            "1/1 [==============================] - ETA: 0s - loss: 0.5704 - accuracy: 0.8108\n",
            "Epoch 75: val_accuracy did not improve from 0.94069\n",
            "1/1 [==============================] - 2s 2s/step - loss: 0.5704 - accuracy: 0.8108 - val_loss: 0.5646 - val_accuracy: 0.7738\n",
            "Epoch 76/120\n",
            "1/1 [==============================] - ETA: 0s - loss: 0.5506 - accuracy: 0.8191\n",
            "Epoch 76: val_accuracy did not improve from 0.94069\n",
            "1/1 [==============================] - 2s 2s/step - loss: 0.5506 - accuracy: 0.8191 - val_loss: 0.5444 - val_accuracy: 0.8186\n",
            "Epoch 77/120\n",
            "1/1 [==============================] - ETA: 0s - loss: 0.5466 - accuracy: 0.8301\n",
            "Epoch 77: val_accuracy did not improve from 0.94069\n",
            "1/1 [==============================] - 2s 2s/step - loss: 0.5466 - accuracy: 0.8301 - val_loss: 0.5362 - val_accuracy: 0.8152\n",
            "Epoch 78/120\n",
            "1/1 [==============================] - ETA: 0s - loss: 0.5404 - accuracy: 0.8191\n",
            "Epoch 78: val_accuracy did not improve from 0.94069\n",
            "1/1 [==============================] - 2s 2s/step - loss: 0.5404 - accuracy: 0.8191 - val_loss: 0.5420 - val_accuracy: 0.8124\n",
            "Epoch 79/120\n",
            "1/1 [==============================] - ETA: 0s - loss: 0.5266 - accuracy: 0.8356\n",
            "Epoch 79: val_accuracy did not improve from 0.94069\n",
            "1/1 [==============================] - 3s 3s/step - loss: 0.5266 - accuracy: 0.8356 - val_loss: 0.5354 - val_accuracy: 0.8297\n",
            "Epoch 80/120\n",
            "1/1 [==============================] - ETA: 0s - loss: 0.5092 - accuracy: 0.8467\n",
            "Epoch 80: val_accuracy did not improve from 0.94069\n",
            "1/1 [==============================] - 2s 2s/step - loss: 0.5092 - accuracy: 0.8467 - val_loss: 0.5098 - val_accuracy: 0.8324\n",
            "Epoch 81/120\n",
            "1/1 [==============================] - ETA: 0s - loss: 0.5085 - accuracy: 0.8425\n",
            "Epoch 81: val_accuracy did not improve from 0.94069\n",
            "1/1 [==============================] - 1s 1s/step - loss: 0.5085 - accuracy: 0.8425 - val_loss: 0.5326 - val_accuracy: 0.8241\n",
            "Epoch 82/120\n",
            "1/1 [==============================] - ETA: 0s - loss: 0.5092 - accuracy: 0.8343\n",
            "Epoch 82: val_accuracy did not improve from 0.94069\n",
            "1/1 [==============================] - 2s 2s/step - loss: 0.5092 - accuracy: 0.8343 - val_loss: 0.5399 - val_accuracy: 0.7821\n",
            "Epoch 83/120\n",
            "1/1 [==============================] - ETA: 0s - loss: 0.5169 - accuracy: 0.8066\n",
            "Epoch 83: val_accuracy did not improve from 0.94069\n",
            "1/1 [==============================] - 1s 1s/step - loss: 0.5169 - accuracy: 0.8066 - val_loss: 0.5237 - val_accuracy: 0.8269\n",
            "Epoch 84/120\n",
            "1/1 [==============================] - ETA: 0s - loss: 0.5082 - accuracy: 0.8315\n",
            "Epoch 84: val_accuracy did not improve from 0.94069\n",
            "1/1 [==============================] - 2s 2s/step - loss: 0.5082 - accuracy: 0.8315 - val_loss: 0.4874 - val_accuracy: 0.8338\n",
            "Epoch 85/120\n",
            "1/1 [==============================] - ETA: 0s - loss: 0.4766 - accuracy: 0.8550\n",
            "Epoch 85: val_accuracy did not improve from 0.94069\n",
            "1/1 [==============================] - 1s 1s/step - loss: 0.4766 - accuracy: 0.8550 - val_loss: 0.4923 - val_accuracy: 0.8234\n",
            "Epoch 86/120\n",
            "1/1 [==============================] - ETA: 0s - loss: 0.4694 - accuracy: 0.8564\n",
            "Epoch 86: val_accuracy did not improve from 0.94069\n",
            "1/1 [==============================] - 2s 2s/step - loss: 0.4694 - accuracy: 0.8564 - val_loss: 0.5095 - val_accuracy: 0.8297\n",
            "Epoch 87/120\n",
            "1/1 [==============================] - ETA: 0s - loss: 0.4852 - accuracy: 0.8384\n",
            "Epoch 87: val_accuracy did not improve from 0.94069\n",
            "1/1 [==============================] - 2s 2s/step - loss: 0.4852 - accuracy: 0.8384 - val_loss: 0.4623 - val_accuracy: 0.8572\n",
            "Epoch 88/120\n",
            "1/1 [==============================] - ETA: 0s - loss: 0.4694 - accuracy: 0.8577\n",
            "Epoch 88: val_accuracy did not improve from 0.94069\n",
            "1/1 [==============================] - 2s 2s/step - loss: 0.4694 - accuracy: 0.8577 - val_loss: 0.4505 - val_accuracy: 0.8710\n",
            "Epoch 89/120\n",
            "1/1 [==============================] - ETA: 0s - loss: 0.4479 - accuracy: 0.8729\n",
            "Epoch 89: val_accuracy did not improve from 0.94069\n",
            "1/1 [==============================] - 2s 2s/step - loss: 0.4479 - accuracy: 0.8729 - val_loss: 0.4640 - val_accuracy: 0.8497\n",
            "Epoch 90/120\n",
            "1/1 [==============================] - ETA: 0s - loss: 0.4244 - accuracy: 0.8688\n",
            "Epoch 90: val_accuracy did not improve from 0.94069\n",
            "1/1 [==============================] - 2s 2s/step - loss: 0.4244 - accuracy: 0.8688 - val_loss: 0.4633 - val_accuracy: 0.8552\n",
            "Epoch 91/120\n",
            "1/1 [==============================] - ETA: 0s - loss: 0.4300 - accuracy: 0.8798\n",
            "Epoch 91: val_accuracy did not improve from 0.94069\n",
            "1/1 [==============================] - 2s 2s/step - loss: 0.4300 - accuracy: 0.8798 - val_loss: 0.4369 - val_accuracy: 0.8607\n",
            "Epoch 92/120\n",
            "1/1 [==============================] - ETA: 0s - loss: 0.4245 - accuracy: 0.8743\n",
            "Epoch 92: val_accuracy did not improve from 0.94069\n",
            "1/1 [==============================] - 2s 2s/step - loss: 0.4245 - accuracy: 0.8743 - val_loss: 0.4380 - val_accuracy: 0.8497\n",
            "Epoch 93/120\n",
            "1/1 [==============================] - ETA: 0s - loss: 0.4350 - accuracy: 0.8757\n",
            "Epoch 93: val_accuracy did not improve from 0.94069\n",
            "1/1 [==============================] - 3s 3s/step - loss: 0.4350 - accuracy: 0.8757 - val_loss: 0.4615 - val_accuracy: 0.8421\n",
            "Epoch 94/120\n",
            "1/1 [==============================] - ETA: 0s - loss: 0.4299 - accuracy: 0.8633\n",
            "Epoch 94: val_accuracy did not improve from 0.94069\n",
            "1/1 [==============================] - 2s 2s/step - loss: 0.4299 - accuracy: 0.8633 - val_loss: 0.5198 - val_accuracy: 0.8028\n",
            "Epoch 95/120\n",
            "1/1 [==============================] - ETA: 0s - loss: 0.4928 - accuracy: 0.8108\n",
            "Epoch 95: val_accuracy did not improve from 0.94069\n",
            "1/1 [==============================] - 2s 2s/step - loss: 0.4928 - accuracy: 0.8108 - val_loss: 0.5083 - val_accuracy: 0.7814\n",
            "Epoch 96/120\n",
            "1/1 [==============================] - ETA: 0s - loss: 0.5057 - accuracy: 0.7887\n",
            "Epoch 96: val_accuracy did not improve from 0.94069\n",
            "1/1 [==============================] - 1s 1s/step - loss: 0.5057 - accuracy: 0.7887 - val_loss: 0.4535 - val_accuracy: 0.8545\n",
            "Epoch 97/120\n",
            "1/1 [==============================] - ETA: 0s - loss: 0.4051 - accuracy: 0.8633\n",
            "Epoch 97: val_accuracy did not improve from 0.94069\n",
            "1/1 [==============================] - 2s 2s/step - loss: 0.4051 - accuracy: 0.8633 - val_loss: 0.5107 - val_accuracy: 0.8228\n",
            "Epoch 98/120\n",
            "1/1 [==============================] - ETA: 0s - loss: 0.4504 - accuracy: 0.8577\n",
            "Epoch 98: val_accuracy did not improve from 0.94069\n",
            "1/1 [==============================] - 2s 2s/step - loss: 0.4504 - accuracy: 0.8577 - val_loss: 0.4192 - val_accuracy: 0.8600\n",
            "Epoch 99/120\n",
            "1/1 [==============================] - ETA: 0s - loss: 0.3967 - accuracy: 0.8854\n",
            "Epoch 99: val_accuracy did not improve from 0.94069\n",
            "1/1 [==============================] - 2s 2s/step - loss: 0.3967 - accuracy: 0.8854 - val_loss: 0.4159 - val_accuracy: 0.8517\n",
            "Epoch 100/120\n",
            "1/1 [==============================] - ETA: 0s - loss: 0.4283 - accuracy: 0.8508\n",
            "Epoch 100: val_accuracy did not improve from 0.94069\n",
            "1/1 [==============================] - 2s 2s/step - loss: 0.4283 - accuracy: 0.8508 - val_loss: 0.4075 - val_accuracy: 0.8579\n",
            "Epoch 101/120\n",
            "1/1 [==============================] - ETA: 0s - loss: 0.3748 - accuracy: 0.8895\n",
            "Epoch 101: val_accuracy did not improve from 0.94069\n",
            "1/1 [==============================] - 2s 2s/step - loss: 0.3748 - accuracy: 0.8895 - val_loss: 0.4474 - val_accuracy: 0.8434\n",
            "Epoch 102/120\n",
            "1/1 [==============================] - ETA: 0s - loss: 0.4108 - accuracy: 0.8674\n",
            "Epoch 102: val_accuracy did not improve from 0.94069\n",
            "1/1 [==============================] - 2s 2s/step - loss: 0.4108 - accuracy: 0.8674 - val_loss: 0.4175 - val_accuracy: 0.8538\n",
            "Epoch 103/120\n",
            "1/1 [==============================] - ETA: 0s - loss: 0.3833 - accuracy: 0.8743\n",
            "Epoch 103: val_accuracy did not improve from 0.94069\n",
            "1/1 [==============================] - 1s 1s/step - loss: 0.3833 - accuracy: 0.8743 - val_loss: 0.3767 - val_accuracy: 0.8683\n",
            "Epoch 104/120\n",
            "1/1 [==============================] - ETA: 0s - loss: 0.3625 - accuracy: 0.8978\n",
            "Epoch 104: val_accuracy did not improve from 0.94069\n",
            "1/1 [==============================] - 2s 2s/step - loss: 0.3625 - accuracy: 0.8978 - val_loss: 0.3820 - val_accuracy: 0.8586\n",
            "Epoch 105/120\n",
            "1/1 [==============================] - ETA: 0s - loss: 0.3758 - accuracy: 0.8743\n",
            "Epoch 105: val_accuracy did not improve from 0.94069\n",
            "1/1 [==============================] - 2s 2s/step - loss: 0.3758 - accuracy: 0.8743 - val_loss: 0.4052 - val_accuracy: 0.8593\n",
            "Epoch 106/120\n",
            "1/1 [==============================] - ETA: 0s - loss: 0.3617 - accuracy: 0.8936\n",
            "Epoch 106: val_accuracy did not improve from 0.94069\n",
            "1/1 [==============================] - 2s 2s/step - loss: 0.3617 - accuracy: 0.8936 - val_loss: 0.4316 - val_accuracy: 0.8476\n",
            "Epoch 107/120\n",
            "1/1 [==============================] - ETA: 0s - loss: 0.3713 - accuracy: 0.8854\n",
            "Epoch 107: val_accuracy did not improve from 0.94069\n",
            "1/1 [==============================] - 2s 2s/step - loss: 0.3713 - accuracy: 0.8854 - val_loss: 0.4061 - val_accuracy: 0.8476\n",
            "Epoch 108/120\n",
            "1/1 [==============================] - ETA: 0s - loss: 0.3594 - accuracy: 0.8895\n",
            "Epoch 108: val_accuracy did not improve from 0.94069\n",
            "1/1 [==============================] - 2s 2s/step - loss: 0.3594 - accuracy: 0.8895 - val_loss: 0.3601 - val_accuracy: 0.8766\n",
            "Epoch 109/120\n",
            "1/1 [==============================] - ETA: 0s - loss: 0.3407 - accuracy: 0.9006\n",
            "Epoch 109: val_accuracy did not improve from 0.94069\n",
            "1/1 [==============================] - 3s 3s/step - loss: 0.3407 - accuracy: 0.9006 - val_loss: 0.3531 - val_accuracy: 0.8828\n",
            "Epoch 110/120\n",
            "1/1 [==============================] - ETA: 0s - loss: 0.3359 - accuracy: 0.8923\n",
            "Epoch 110: val_accuracy did not improve from 0.94069\n",
            "1/1 [==============================] - 2s 2s/step - loss: 0.3359 - accuracy: 0.8923 - val_loss: 0.3667 - val_accuracy: 0.8641\n",
            "Epoch 111/120\n",
            "1/1 [==============================] - ETA: 0s - loss: 0.3299 - accuracy: 0.9006\n",
            "Epoch 111: val_accuracy did not improve from 0.94069\n",
            "1/1 [==============================] - 2s 2s/step - loss: 0.3299 - accuracy: 0.9006 - val_loss: 0.3807 - val_accuracy: 0.8669\n",
            "Epoch 112/120\n",
            "1/1 [==============================] - ETA: 0s - loss: 0.3350 - accuracy: 0.8978\n",
            "Epoch 112: val_accuracy did not improve from 0.94069\n",
            "1/1 [==============================] - 2s 2s/step - loss: 0.3350 - accuracy: 0.8978 - val_loss: 0.3455 - val_accuracy: 0.8772\n",
            "Epoch 113/120\n",
            "1/1 [==============================] - ETA: 0s - loss: 0.3241 - accuracy: 0.9061\n",
            "Epoch 113: val_accuracy did not improve from 0.94069\n",
            "1/1 [==============================] - 2s 2s/step - loss: 0.3241 - accuracy: 0.9061 - val_loss: 0.3340 - val_accuracy: 0.8814\n",
            "Epoch 114/120\n",
            "1/1 [==============================] - ETA: 0s - loss: 0.3239 - accuracy: 0.9019\n",
            "Epoch 114: val_accuracy did not improve from 0.94069\n",
            "1/1 [==============================] - 2s 2s/step - loss: 0.3239 - accuracy: 0.9019 - val_loss: 0.3586 - val_accuracy: 0.8738\n",
            "Epoch 115/120\n",
            "1/1 [==============================] - ETA: 0s - loss: 0.2993 - accuracy: 0.9075\n",
            "Epoch 115: val_accuracy did not improve from 0.94069\n",
            "1/1 [==============================] - 2s 2s/step - loss: 0.2993 - accuracy: 0.9075 - val_loss: 0.3768 - val_accuracy: 0.8683\n",
            "Epoch 116/120\n",
            "1/1 [==============================] - ETA: 0s - loss: 0.3215 - accuracy: 0.9019\n",
            "Epoch 116: val_accuracy did not improve from 0.94069\n",
            "1/1 [==============================] - 2s 2s/step - loss: 0.3215 - accuracy: 0.9019 - val_loss: 0.3290 - val_accuracy: 0.8897\n",
            "Epoch 117/120\n",
            "1/1 [==============================] - ETA: 0s - loss: 0.3041 - accuracy: 0.9006\n",
            "Epoch 117: val_accuracy did not improve from 0.94069\n",
            "1/1 [==============================] - 3s 3s/step - loss: 0.3041 - accuracy: 0.9006 - val_loss: 0.3793 - val_accuracy: 0.8724\n",
            "Epoch 118/120\n",
            "1/1 [==============================] - ETA: 0s - loss: 0.3471 - accuracy: 0.8881\n",
            "Epoch 118: val_accuracy did not improve from 0.94069\n",
            "1/1 [==============================] - 2s 2s/step - loss: 0.3471 - accuracy: 0.8881 - val_loss: 0.5503 - val_accuracy: 0.7903\n",
            "Epoch 119/120\n",
            "1/1 [==============================] - ETA: 0s - loss: 0.4542 - accuracy: 0.8135\n",
            "Epoch 119: val_accuracy did not improve from 0.94069\n",
            "1/1 [==============================] - 1s 1s/step - loss: 0.4542 - accuracy: 0.8135 - val_loss: 0.6108 - val_accuracy: 0.7621\n",
            "Epoch 120/120\n",
            "1/1 [==============================] - ETA: 0s - loss: 0.5538 - accuracy: 0.7845\n",
            "Epoch 120: val_accuracy did not improve from 0.94069\n",
            "1/1 [==============================] - 2s 2s/step - loss: 0.5538 - accuracy: 0.7845 - val_loss: 0.3936 - val_accuracy: 0.8372\n"
          ]
        }
      ],
      "source": [
        "# # to train without noise\n",
        "model.compile(loss='categorical_crossentropy', optimizer=Adam(learning_rate=0.0001), metrics=['accuracy'])\n",
        "history = model.fit(X_train, y_train, epochs=120, batch_size=1024, validation_data=(X_validation, y_validation), callbacks=[checkpoint])"
      ]
    },
    {
      "cell_type": "code",
      "execution_count": null,
      "metadata": {
        "colab": {
          "base_uri": "https://localhost:8080/"
        },
        "id": "KGDbYh4YqV2v",
        "outputId": "48f0c884-a6cd-4a0c-bc32-aada2b3f3f6a"
      },
      "outputs": [
        {
          "output_type": "stream",
          "name": "stdout",
          "text": [
            "Model: \"sequential_4\"\n",
            "_________________________________________________________________\n",
            " Layer (type)                Output Shape              Param #   \n",
            "=================================================================\n",
            " conv1d_16 (Conv1D)          (None, 40, 16)            96        \n",
            "                                                                 \n",
            " max_pooling1d_4 (MaxPoolin  (None, 20, 16)            0         \n",
            " g1D)                                                            \n",
            "                                                                 \n",
            " conv1d_17 (Conv1D)          (None, 20, 32)            2592      \n",
            "                                                                 \n",
            " conv1d_18 (Conv1D)          (None, 20, 64)            10304     \n",
            "                                                                 \n",
            " conv1d_19 (Conv1D)          (None, 20, 128)           41088     \n",
            "                                                                 \n",
            " conv1d_20 (Conv1D)          (None, 20, 256)           164096    \n",
            "                                                                 \n",
            " lstm_8 (LSTM)               (None, 20, 128)           197120    \n",
            "                                                                 \n",
            " dropout_12 (Dropout)        (None, 20, 128)           0         \n",
            "                                                                 \n",
            " lstm_9 (LSTM)               (None, 64)                49408     \n",
            "                                                                 \n",
            " dropout_13 (Dropout)        (None, 64)                0         \n",
            "                                                                 \n",
            " dense_16 (Dense)            (None, 128)               8320      \n",
            "                                                                 \n",
            " dropout_14 (Dropout)        (None, 128)               0         \n",
            "                                                                 \n",
            " dense_17 (Dense)            (None, 64)                8256      \n",
            "                                                                 \n",
            " dense_18 (Dense)            (None, 64)                4160      \n",
            "                                                                 \n",
            " dense_19 (Dense)            (None, 3)                 195       \n",
            "                                                                 \n",
            "=================================================================\n",
            "Total params: 485635 (1.85 MB)\n",
            "Trainable params: 485635 (1.85 MB)\n",
            "Non-trainable params: 0 (0.00 Byte)\n",
            "_________________________________________________________________\n"
          ]
        }
      ],
      "source": [
        "model.summary()"
      ]
    },
    {
      "cell_type": "code",
      "execution_count": null,
      "metadata": {
        "colab": {
          "base_uri": "https://localhost:8080/"
        },
        "id": "Np0e_8G7qVx_",
        "outputId": "34962197-037c-40ec-8ddb-43d086237180"
      },
      "outputs": [
        {
          "output_type": "stream",
          "name": "stdout",
          "text": [
            "Best Validation Accuracy: 0.8896551728248596\n",
            "Epoch with Best Validation Accuracy: 116\n"
          ]
        }
      ],
      "source": [
        "# Retrieve the best validation accuracy and the epoch at which it occurred\n",
        "best_val_accuracy = max(history.history['val_accuracy'])\n",
        "best_val_accuracy_epoch = history.history['val_accuracy'].index(best_val_accuracy)\n",
        "\n",
        "print(\"Best Validation Accuracy:\", best_val_accuracy)\n",
        "print(\"Epoch with Best Validation Accuracy:\", best_val_accuracy_epoch + 1)"
      ]
    },
    {
      "cell_type": "code",
      "execution_count": null,
      "metadata": {
        "id": "LN1YJR7fVto1"
      },
      "outputs": [],
      "source": [
        "# # Save the model in HDF5 format\n",
        "# model.save('/content/drive/MyDrive/Colz_Project/Extra Files/custom_2ndFeb.h5')\n",
        "\n",
        "# # Load the model using load_model\n",
        "# loaded_model = load_model('/content/drive/MyDrive/Colz_Project/Extra Files/custom_2ndFeb.h5')"
      ]
    },
    {
      "cell_type": "code",
      "execution_count": null,
      "metadata": {
        "colab": {
          "base_uri": "https://localhost:8080/",
          "height": 407
        },
        "id": "0LNc3T-AqVtt",
        "outputId": "d2a6cff7-e7a5-43a8-c9de-2b77599ba390"
      },
      "outputs": [
        {
          "output_type": "display_data",
          "data": {
            "text/plain": [
              "<Figure size 1200x400 with 2 Axes>"
            ],
            "image/png": "[encoded data removed]"
          },
          "metadata": {}
        }
      ],
      "source": [
        "# Get training and validation loss and accuracy from the history\n",
        "training_loss = history.history['loss']\n",
        "validation_loss = history.history['val_loss']\n",
        "training_accuracy = history.history['accuracy']\n",
        "validation_accuracy = history.history['val_accuracy']\n",
        "\n",
        "# Create subplots for loss and accuracy\n",
        "fig, (ax1, ax2) = plt.subplots(1, 2, figsize=(12, 4))\n",
        "\n",
        "# Plot loss\n",
        "ax1.set_title('Loss')\n",
        "ax1.plot(training_loss, label='Training Loss')\n",
        "ax1.plot(validation_loss, label='Validation Loss')\n",
        "ax1.set_xlabel('Epoch')\n",
        "ax1.set_ylabel('Loss')\n",
        "ax1.legend()\n",
        "\n",
        "# Plot accuracy\n",
        "ax2.set_title('Accuracy')\n",
        "ax2.plot(training_accuracy, label='Training Accuracy')\n",
        "ax2.plot(validation_accuracy, label='Validation Accuracy')\n",
        "ax2.set_xlabel('Epoch')\n",
        "ax2.set_ylabel('Accuracy')\n",
        "ax2.legend()\n",
        "\n",
        "# Show the plots\n",
        "plt.tight_layout()\n",
        "plt.savefig('loss_accuracy.png')\n",
        "plt.show()"
      ]
    },
    {
      "cell_type": "code",
      "execution_count": null,
      "metadata": {
        "colab": {
          "base_uri": "https://localhost:8080/",
          "height": 582
        },
        "id": "gnc8wUKPV63Q",
        "outputId": "aa4be7fd-b24b-4feb-f193-1109b1295800"
      },
      "outputs": [
        {
          "output_type": "stream",
          "name": "stdout",
          "text": [
            "46/46 [==============================] - 2s 22ms/step\n"
          ]
        },
        {
          "output_type": "display_data",
          "data": {
            "text/plain": [
              "<Figure size 800x600 with 2 Axes>"
            ],
            "image/png": "[encoded data removed]"
          },
          "metadata": {}
        }
      ],
      "source": [
        "# Evaluate the model on the test set\n",
        "y_pred = model.predict(X_test)\n",
        "\n",
        "# Convert one-hot encoded labels back to original labels\n",
        "y_test_original = np.argmax(y_test, axis=1)\n",
        "y_pred_original = np.argmax(y_pred, axis=1)\n",
        "\n",
        "# Generate confusion matrix\n",
        "conf_matrix = confusion_matrix(y_test_original, y_pred_original)\n",
        "\n",
        "# Define class labels\n",
        "class_labels = ['Angry', 'Happy', 'Sad']\n",
        "\n",
        "# Plot confusion matrix as a heatmap\n",
        "plt.figure(figsize=(8, 6))\n",
        "sns.heatmap(conf_matrix, annot=True, fmt='d', cmap='Blues', xticklabels=class_labels, yticklabels=class_labels)\n",
        "plt.title('Confusion Matrix')\n",
        "plt.xlabel('Predicted')\n",
        "plt.ylabel('True')\n",
        "plt.show()"
      ]
    },
    {
      "cell_type": "code",
      "execution_count": null,
      "metadata": {
        "colab": {
          "base_uri": "https://localhost:8080/"
        },
        "id": "3frGpBU2Xf8Y",
        "outputId": "b8325751-dbde-46f9-a340-9dad1e24cfa4"
      },
      "outputs": [
        {
          "output_type": "stream",
          "name": "stdout",
          "text": [
            "Classification Report:\n",
            "              precision    recall  f1-score   support\n",
            "\n",
            "           0       0.93      0.81      0.87       500\n",
            "           1       0.80      0.84      0.82       489\n",
            "           2       0.89      0.95      0.92       461\n",
            "\n",
            "    accuracy                           0.87      1450\n",
            "   macro avg       0.87      0.87      0.87      1450\n",
            "weighted avg       0.87      0.87      0.87      1450\n",
            "\n"
          ]
        }
      ],
      "source": [
        "# Generate classification report\n",
        "class_report = classification_report(y_test_original, y_pred_original)\n",
        "print(\"Classification Report:\")\n",
        "print(class_report)"
      ]
    },
    {
      "cell_type": "code",
      "execution_count": null,
      "metadata": {
        "colab": {
          "base_uri": "https://localhost:8080/"
        },
        "id": "D0pi_MDOXL36",
        "outputId": "6bd2698b-0a11-45e8-9ffa-6e9dc35cdd58"
      },
      "outputs": [
        {
          "output_type": "stream",
          "name": "stdout",
          "text": [
            "1/1 [==============================] - 0s 141ms/step\n",
            "Predicted Emotion for Audio 1: angry\n"
          ]
        }
      ],
      "source": [
        "import librosa\n",
        "import numpy as np\n",
        "from keras.models import load_model\n",
        "import tensorflow as tf\n",
        "\n",
        "# Function to preprocess audio\n",
        "def preprocess_audio(filename, noise_level=0.01):\n",
        "    # Load audio\n",
        "    y, sr = librosa.load(filename, duration=3, offset=0.5)\n",
        "\n",
        "    # Extract MFCC features\n",
        "    mfcc = np.mean(librosa.feature.mfcc(y=y, sr=sr, n_mfcc=40).T, axis=0)\n",
        "\n",
        "    return mfcc\n",
        "\n",
        "# Load the trained model\n",
        "model_path = '/content/drive/MyDrive/Colz_Project/Extra Files/custom_2ndFeb.h5'\n",
        "loaded_model = load_model(model_path)\n",
        "\n",
        "# Define audio filenames\n",
        "audio_filenames = [\n",
        "    '/content/drive/MyDrive/Colz_Project/Project Dataset/Nihit/NIHIT-ANG-1.mp3'\n",
        "]\n",
        "\n",
        "# Iterate over audio filenames\n",
        "for i, audio_filename in enumerate(audio_filenames):\n",
        "    # Preprocess the audio\n",
        "    preprocessed_audio = preprocess_audio(audio_filename)\n",
        "\n",
        "    # Make predictions\n",
        "    predicted_probabilities = loaded_model.predict(np.expand_dims(preprocessed_audio, axis=0))\n",
        "    predicted_class = np.argmax(predicted_probabilities)\n",
        "\n",
        "    # Map the predicted class to emotion\n",
        "    class_to_emotion = {\n",
        "        0: 'angry',\n",
        "        1: 'happy',\n",
        "        2: 'sad'\n",
        "    }\n",
        "\n",
        "    predicted_emotion = class_to_emotion[predicted_class]\n",
        "\n",
        "    # Print the predicted emotion for each audio file\n",
        "    print(f\"Predicted Emotion for Audio {i + 1}: {predicted_emotion}\")\n"
      ]
    },
    {
      "cell_type": "code",
      "execution_count": null,
      "metadata": {
        "id": "jZAY96TtrMps"
      },
      "outputs": [],
      "source": [
        "# import os\n",
        "# import numpy as np\n",
        "\n",
        "# # Assuming preprocess_audio and loaded_model are defined somewhere in your code\n",
        "\n",
        "# # Directory containing audio files\n",
        "# audio_directory = '/content/drive/MyDrive/Colz_Project/Project Dataset/'\n",
        "\n",
        "# # Initialize counters\n",
        "# total_files = 0\n",
        "# files_with_ang_in_name = 0\n",
        "# predicted_angry_count = 0\n",
        "# predicted_angry_with_ang_in_name_count = 0\n",
        "# files_with_sad_in_name = 0\n",
        "# predicted_sad_count = 0\n",
        "# predicted_sad_with_sad_in_name_count = 0\n",
        "# files_with_hap_in_name = 0\n",
        "# predicted_happy_count = 0\n",
        "# predicted_happy_with_hap_in_name_count = 0\n",
        "\n",
        "# # Iterate over all files in the directory and its subdirectories\n",
        "# for root, _, files in os.walk(audio_directory):\n",
        "#     for filename in files:\n",
        "#         if filename.endswith(\".mp3\"):\n",
        "#             # Update total files count\n",
        "#             total_files += 1\n",
        "\n",
        "#             # Check if \"HAP\", \"ANG\", or \"SAD\" is in the filename\n",
        "#             if \"HAP\" in filename:\n",
        "#                 files_with_hap_in_name += 1\n",
        "#             if \"ANG\" in filename:\n",
        "#                 files_with_ang_in_name += 1\n",
        "#             if \"SAD\" in filename:\n",
        "#                 files_with_sad_in_name += 1\n",
        "\n",
        "#             # Preprocess the audio\n",
        "#             audio_filepath = os.path.join(root, filename)\n",
        "#             preprocessed_audio = preprocess_audio(audio_filepath)\n",
        "\n",
        "#             # Make predictions\n",
        "#             predicted_probabilities = loaded_model.predict(np.expand_dims(preprocessed_audio, axis=0))\n",
        "#             predicted_class = np.argmax(predicted_probabilities)\n",
        "\n",
        "#             # Map the predicted class to emotion\n",
        "#             class_to_emotion = {\n",
        "#                 0: 'angry',\n",
        "#                 1: 'happy',\n",
        "#                 2: 'sad'\n",
        "#             }\n",
        "\n",
        "#             predicted_emotion = class_to_emotion[predicted_class]\n",
        "\n",
        "#             # Update counts for predicted emotions\n",
        "#             if predicted_emotion == 'angry':\n",
        "#                 predicted_angry_count += 1\n",
        "\n",
        "#                 # Check if \"ANG\" is in the filename for predicted \"angry\" files\n",
        "#                 if \"ANG\" in filename:\n",
        "#                     predicted_angry_with_ang_in_name_count += 1\n",
        "\n",
        "#             elif predicted_emotion == 'sad':\n",
        "#                 predicted_sad_count += 1\n",
        "\n",
        "#                 # Check if \"SAD\" is in the filename for predicted \"sad\" files\n",
        "#                 if \"SAD\" in filename:\n",
        "#                     predicted_sad_with_sad_in_name_count += 1\n",
        "\n",
        "#             elif predicted_emotion == 'happy':\n",
        "#                 predicted_happy_count += 1\n",
        "\n",
        "#                 # Check if \"HAP\" is in the filename for predicted \"happy\" files\n",
        "#                 if \"HAP\" in filename:\n",
        "#                     predicted_happy_with_hap_in_name_count += 1\n",
        "\n",
        "#             # Print the filename and predicted emotion\n",
        "#             print(f\"Predicted Emotion for {filename}: {predicted_emotion}\")\n",
        "\n",
        "# # Print the summary counts\n",
        "# print(f\"Total Files: {total_files}\")\n",
        "# print(f\"Files with 'ANG' in Name: {files_with_ang_in_name}\")\n",
        "# print(f\"Predicted 'Angry' Files: {predicted_angry_count}\")\n",
        "# print(f\"Predicted 'Angry' Files with 'ANG' in Name: {predicted_angry_with_ang_in_name_count}\")\n",
        "# print(\"____________________________________________________\")\n",
        "# print(f\"Files with 'SAD' in Name: {files_with_sad_in_name}\")\n",
        "# print(f\"Predicted 'Sad' Files: {predicted_sad_count}\")\n",
        "# print(f\"Predicted 'Sad' Files with 'SAD' in Name: {predicted_sad_with_sad_in_name_count}\")\n",
        "# print(\"____________________________________________________\")\n",
        "# print(f\"Files with 'HAP' in Name: {files_with_hap_in_name}\")\n",
        "# print(f\"Predicted 'Happy' Files: {predicted_happy_count}\")\n",
        "# print(f\"Predicted 'Happy' Files with 'HAP' in Name: {predicted_happy_with_hap_in_name_count}\")\n"
      ]
    }
  ],
  "metadata": {
    "colab": {
      "provenance": []
    },
    "kernelspec": {
      "display_name": "Python 3",
      "name": "python3"
    },
    "language_info": {
      "name": "python"
    }
  },
  "nbformat": 4,
  "nbformat_minor": 0
}